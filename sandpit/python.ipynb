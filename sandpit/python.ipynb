"""
Multiline 
comments
in python
"""

list = [{'a': 'A', 'b': 'B'}]
print('It is %s for %s'%(list['a'], list['b'].upper()))

#new comment to push to branch
